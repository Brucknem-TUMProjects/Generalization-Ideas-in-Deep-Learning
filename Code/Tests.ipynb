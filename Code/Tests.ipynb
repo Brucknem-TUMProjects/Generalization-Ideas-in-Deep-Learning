{
 "cells": [
  {
   "cell_type": "code",
   "execution_count": 9,
   "metadata": {},
   "outputs": [
    {
     "name": "stdout",
     "output_type": "stream",
     "text": [
      "The autoreload extension is already loaded. To reload it, use:\n",
      "  %reload_ext autoreload\n"
     ]
    }
   ],
   "source": [
    "from norms import *\n",
    "\n",
    "# for auto-reloading external modules\n",
    "# see http://stackoverflow.com/questions/1907993/autoreload-of-modules-in-ipython\n",
    "%load_ext autoreload\n",
    "%autoreload 2"
   ]
  },
  {
   "cell_type": "code",
   "execution_count": 11,
   "metadata": {},
   "outputs": [],
   "source": [
    "# L2 norm\n",
    "\n",
    "layers = {\n",
    "    0: np.array([\n",
    "            [-1,-1,-1],\n",
    "            [-1,-1,-1],\n",
    "            [-1,-1,-1]]\n",
    "    )\n",
    "}\n",
    "\n",
    "assert l2_norm(layers) == 12, \"Should be 12\"\n",
    "\n",
    "layers = {\n",
    "    0: np.array([\n",
    "            [1,1,1],\n",
    "            [1,1,1],\n",
    "            [1,1,1]]\n",
    "    )\n",
    "}\n",
    "\n",
    "assert l2_norm(layers) == 12, \"Should be 12\"\n",
    "\n",
    "layers = {\n",
    "    0: np.array([\n",
    "            [0,0,0],\n",
    "            [0,0,0],\n",
    "            [0,0,0]]\n",
    "    )\n",
    "}\n",
    "\n",
    "assert l2_norm(layers) == 0, \"Should be 0\""
   ]
  },
  {
   "cell_type": "code",
   "execution_count": null,
   "metadata": {},
   "outputs": [],
   "source": []
  }
 ],
 "metadata": {
  "kernelspec": {
   "display_name": "Python 3",
   "language": "python",
   "name": "python3"
  },
  "language_info": {
   "codemirror_mode": {
    "name": "ipython",
    "version": 3
   },
   "file_extension": ".py",
   "mimetype": "text/x-python",
   "name": "python",
   "nbconvert_exporter": "python",
   "pygments_lexer": "ipython3",
   "version": "3.7.3"
  }
 },
 "nbformat": 4,
 "nbformat_minor": 2
}
