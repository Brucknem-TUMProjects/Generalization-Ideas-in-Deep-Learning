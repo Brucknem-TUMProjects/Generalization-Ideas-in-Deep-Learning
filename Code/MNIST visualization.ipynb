{
 "cells": [
  {
   "cell_type": "code",
   "execution_count": 1,
   "metadata": {},
   "outputs": [
    {
     "ename": "ModuleNotFoundError",
     "evalue": "No module named 'torchvision'",
     "output_type": "error",
     "traceback": [
      "\u001b[0;31m---------------------------------------------------------------------------\u001b[0m",
      "\u001b[0;31mModuleNotFoundError\u001b[0m                       Traceback (most recent call last)",
      "\u001b[0;32m<ipython-input-1-c494feb7a977>\u001b[0m in \u001b[0;36m<module>\u001b[0;34m\u001b[0m\n\u001b[1;32m      1\u001b[0m \u001b[0;32mimport\u001b[0m \u001b[0mnumpy\u001b[0m \u001b[0;32mas\u001b[0m \u001b[0mnp\u001b[0m\u001b[0;34m\u001b[0m\u001b[0;34m\u001b[0m\u001b[0m\n\u001b[0;32m----> 2\u001b[0;31m \u001b[0;32mfrom\u001b[0m \u001b[0msolver\u001b[0m \u001b[0;32mimport\u001b[0m \u001b[0mload_solver\u001b[0m\u001b[0;34m\u001b[0m\u001b[0;34m\u001b[0m\u001b[0m\n\u001b[0m\u001b[1;32m      3\u001b[0m \u001b[0;32mfrom\u001b[0m \u001b[0mmeasures\u001b[0m \u001b[0;32mimport\u001b[0m \u001b[0mplot\u001b[0m\u001b[0;34m,\u001b[0m \u001b[0mparse_measures\u001b[0m\u001b[0;34m\u001b[0m\u001b[0;34m\u001b[0m\u001b[0m\n\u001b[1;32m      4\u001b[0m \u001b[0;34m\u001b[0m\u001b[0m\n\u001b[1;32m      5\u001b[0m \u001b[0;31m# for auto-reloading external modules\u001b[0m\u001b[0;34m\u001b[0m\u001b[0;34m\u001b[0m\u001b[0;34m\u001b[0m\u001b[0m\n",
      "\u001b[0;32m~/Repositories/Seminar/Code/solver.py\u001b[0m in \u001b[0;36m<module>\u001b[0;34m\u001b[0m\n\u001b[1;32m      6\u001b[0m \u001b[0;34m\u001b[0m\u001b[0m\n\u001b[1;32m      7\u001b[0m \u001b[0;32mimport\u001b[0m \u001b[0mnumpy\u001b[0m \u001b[0;32mas\u001b[0m \u001b[0mnp\u001b[0m\u001b[0;34m\u001b[0m\u001b[0;34m\u001b[0m\u001b[0m\n\u001b[0;32m----> 8\u001b[0;31m \u001b[0;32mimport\u001b[0m \u001b[0mtorchvision\u001b[0m\u001b[0;34m\u001b[0m\u001b[0;34m\u001b[0m\u001b[0m\n\u001b[0m\u001b[1;32m      9\u001b[0m \u001b[0;34m\u001b[0m\u001b[0m\n\u001b[1;32m     10\u001b[0m \u001b[0;32mimport\u001b[0m \u001b[0mdata_loader\u001b[0m\u001b[0;34m\u001b[0m\u001b[0;34m\u001b[0m\u001b[0m\n",
      "\u001b[0;31mModuleNotFoundError\u001b[0m: No module named 'torchvision'"
     ]
    }
   ],
   "source": [
    "import numpy as np\n",
    "from solver import load_solver\n",
    "from measures import plot, parse_measures\n",
    "\n",
    "# for auto-reloading external modules\n",
    "# see http://stackoverflow.com/questions/1907993/autoreload-of-modules-in-ipython\n",
    "%load_ext autoreload\n",
    "%autoreload 2"
   ]
  },
  {
   "cell_type": "code",
   "execution_count": null,
   "metadata": {},
   "outputs": [],
   "source": [
    "from solver import load_solver\n",
    "from measures import plot, parse_measures\n",
    "\n",
    "# for auto-reloading external modules\n",
    "# see http://stackoverflow.com/questions/1907993/autoreload-of-modules-in-ipython\n",
    "%load_ext autoreload\n",
    "%autoreload 2"
   ]
  },
  {
   "cell_type": "code",
   "execution_count": null,
   "metadata": {},
   "outputs": [],
   "source": [
    "folder = '/mnt/nextcloud/tum/Master/3.Semester/Seminar/brucknem/logs/mnist'\n",
    "files = ['slurm-%d.out' % i for i in range(140625, 140631)]\n",
    "print(files)"
   ]
  },
  {
   "cell_type": "code",
   "execution_count": null,
   "metadata": {},
   "outputs": [],
   "source": [
    "measures = []\n",
    "for filename in files:\n",
    "    measure = parse_measures(folder, filename)\n",
    "    measure['name'] = int(measure['name'].split('_')[1])\n",
    "    measures.append(measure)\n",
    "measures = sorted(measures, key = lambda i: i['name'])\n",
    "# pprint(measures)"
   ]
  },
  {
   "cell_type": "code",
   "execution_count": null,
   "metadata": {},
   "outputs": [],
   "source": [
    "measures_without_8 = [m for m in measures if not m['name'] == 8]\n",
    "# pprint(measures_without_8)"
   ]
  },
  {
   "cell_type": "code",
   "execution_count": null,
   "metadata": {},
   "outputs": [],
   "source": [
    "measures_merged = {}\n",
    "for measure in measures_without_8:\n",
    "    for key, value in measure.items():\n",
    "        measures_merged.setdefault(key, []).append(value)\n",
    "\n",
    "for key in measures_merged.keys():\n",
    "    if key == 'name':\n",
    "        continue\n",
    "    arr = np.array(measures_merged[key])\n",
    "    measures_merged[key] = arr / np.max(arr)\n",
    "#     measures_merged[key] = 1 - measures_merged[key] \n",
    "# pprint(measures_merged)"
   ]
  },
  {
   "cell_type": "code",
   "execution_count": null,
   "metadata": {},
   "outputs": [],
   "source": [
    "x = measures_merged['name']\n",
    "confusion_set_measures = [{\n",
    "    'y': measures_merged['l2'],\n",
    "    'legend_label': 'l2 norm',\n",
    "    'type': 'cross',\n",
    "    'line_color': 'magenta',\n",
    "    'fill_color': 'magenta',\n",
    "}, {\n",
    "    'y': measures_merged['spectral'],\n",
    "    'legend_label': 'spectral norm',\n",
    "    'type': 'asterisk',\n",
    "    'line_color': 'cyan',\n",
    "    'fill_color': 'cyan',\n",
    "}, {\n",
    "    'y': measures_merged['l1_path'],\n",
    "    'legend_label': 'l1-path norm',\n",
    "    'type': 'square',\n",
    "    'line_color': 'blue',\n",
    "    'fill_color': 'blue',\n",
    "}, {\n",
    "    'y': measures_merged['l2_path'],\n",
    "    'legend_label': 'l2-path norm',\n",
    "    'type': 'diamond',\n",
    "    'line_color': 'red',\n",
    "    'fill_color': 'red',\n",
    "}, {\n",
    "    'y': measures_merged['sharpness'],\n",
    "    'legend_label': 'sharpness',\n",
    "    'type': 'circle',\n",
    "    'line_color': 'black',\n",
    "    'fill_color': 'black',\n",
    "}]\n",
    "title = 'Measures'\n",
    "output_name = 'hidden_units_measures_own'\n",
    "y_range = (-0.02, 1.02)\n",
    "x_axis_label = '# hidden units'\n",
    "plot(title, x, y_range, confusion_set_measures, y_axis_type='linear', legend_location='top_left', \n",
    "     x_axis_label=x_axis_label, x_axis_type='log', output_name=output_name, show_plot=True)"
   ]
  },
  {
   "cell_type": "code",
   "execution_count": null,
   "metadata": {},
   "outputs": [],
   "source": [
    "solvers = {}\n",
    "filenames = {\n",
    "    2**3: 'solver_e300.pth',\n",
    "    2**5: 'solver_e300.pth',\n",
    "    2**7: 'solver_e300.pth',\n",
    "    2**9: 'solver_e300.pth',\n",
    "    2**11: 'solver_e300.pth',\n",
    "    2**13: 'solver_e300.pth',\n",
    "}\n",
    "for key, value in filenames.items():\n",
    "    solvers[key] = load_solver(folder='/mnt/nextcloud/tum/Master/3.Semester/Seminar/brucknem/mnist_' + str(key), filename=value)\n",
    "print(solvers)"
   ]
  },
  {
   "cell_type": "code",
   "execution_count": null,
   "metadata": {
    "scrolled": false
   },
   "outputs": [],
   "source": [
    "solvers[2**3].print_bokeh_plots()"
   ]
  },
  {
   "cell_type": "code",
   "execution_count": null,
   "metadata": {},
   "outputs": [],
   "source": [
    "solvers[2**5].print_bokeh_plots()"
   ]
  },
  {
   "cell_type": "code",
   "execution_count": null,
   "metadata": {},
   "outputs": [],
   "source": [
    "solvers[2**7].print_bokeh_plots()"
   ]
  },
  {
   "cell_type": "code",
   "execution_count": null,
   "metadata": {},
   "outputs": [],
   "source": [
    "solvers[2**9].print_bokeh_plots()"
   ]
  },
  {
   "cell_type": "code",
   "execution_count": null,
   "metadata": {},
   "outputs": [],
   "source": [
    "solvers[2**11].print_bokeh_plots()"
   ]
  },
  {
   "cell_type": "code",
   "execution_count": null,
   "metadata": {},
   "outputs": [],
   "source": [
    "solvers[2**13].print_bokeh_plots()"
   ]
  },
  {
   "cell_type": "code",
   "execution_count": null,
   "metadata": {},
   "outputs": [],
   "source": [
    "x = []\n",
    "training_errors = []\n",
    "validation_errors = []\n",
    "\n",
    "for subset_size, solver in solvers.items():\n",
    "    x.append(subset_size)\n",
    "    training_history = solver.epoch_training_accuracy_history \n",
    "    validation_history = solver.epoch_validation_accuracy_history \n",
    "    training_errors.append(training_history[list(training_history.keys())[-1]])\n",
    "    validation_errors.append(validation_history[list(validation_history.keys())[-1]])\n",
    "\n",
    "\n",
    "training_errors = 1 - np.array(training_errors)\n",
    "validation_errors = 1 - np.array(validation_errors)\n",
    "\n",
    "print(x)\n",
    "print(training_errors)\n",
    "print(validation_errors)"
   ]
  },
  {
   "cell_type": "code",
   "execution_count": null,
   "metadata": {},
   "outputs": [],
   "source": [
    "vgg16_errors_confusion = [{\n",
    "    'y': training_errors,\n",
    "    'legend_label': 'training',\n",
    "    'type': 'square',\n",
    "    'line_color': 'blue',\n",
    "    'fill_color': 'blue',\n",
    "},{\n",
    "    'y': validation_errors,\n",
    "    'legend_label': 'test',\n",
    "    'type': 'circle',\n",
    "    'line_color': 'magenta',\n",
    "    'fill_color': 'magenta',\n",
    "} ]"
   ]
  },
  {
   "cell_type": "code",
   "execution_count": null,
   "metadata": {},
   "outputs": [],
   "source": [
    "title = 'Error'\n",
    "output_name = 'confusion_set_errors_own'\n",
    "y_range = (-0.01, 0.1)\n",
    "x_axis_label = '# random labels'\n",
    "plot(title, x, y_range, vgg16_errors_confusion, y_axis_type='linear', legend_location='top_right', \n",
    "     x_axis_label=x_axis_label, x_axis_type='log', output_name=output_name, show_plot=True)"
   ]
  },
  {
   "cell_type": "code",
   "execution_count": null,
   "metadata": {},
   "outputs": [],
   "source": []
  }
 ],
 "metadata": {
  "kernelspec": {
   "display_name": "Python 3",
   "language": "python",
   "name": "python3"
  },
  "language_info": {
   "codemirror_mode": {
    "name": "ipython",
    "version": 3
   },
   "file_extension": ".py",
   "mimetype": "text/x-python",
   "name": "python",
   "nbconvert_exporter": "python",
   "pygments_lexer": "ipython3",
   "version": "3.7.4"
  },
  "widgets": {
   "application/vnd.jupyter.widget-state+json": {
    "state": {},
    "version_major": 2,
    "version_minor": 0
   }
  }
 },
 "nbformat": 4,
 "nbformat_minor": 2
}
